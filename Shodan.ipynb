{
 "cells": [
  {
   "cell_type": "code",
   "execution_count": null,
   "metadata": {},
   "outputs": [],
   "source": [
    "from shodan import Shodan as shd\n",
    "import pandas as pd\n",
    "import json\n",
    "\n",
    "api = shd('hYUzObihi1fyJ3Azl5bm0oLjogZG58XX')"
   ]
  },
  {
   "cell_type": "code",
   "execution_count": null,
   "metadata": {},
   "outputs": [],
   "source": [
    "try:\n",
    "    ics_services = api.count('tag:ics')\n",
    "    print('Industrial Control Systems: {}'.format(ics_services['total']))\n",
    "\n",
    "except shodan.APIError:\n",
    "    print('Error: {}'.format(e))"
   ]
  },
  {
   "cell_type": "code",
   "execution_count": null,
   "metadata": {},
   "outputs": [],
   "source": [
    "results = api.count('bacnet')\n",
    "print(results)"
   ]
  },
  {
   "cell_type": "code",
   "execution_count": null,
   "metadata": {},
   "outputs": [],
   "source": [
    "host = api.host('167.7.7.234')\n",
    "#host = api.host('160.39.30.211')\n",
    "host"
   ]
  },
  {
   "cell_type": "code",
   "execution_count": null,
   "metadata": {},
   "outputs": [],
   "source": [
    "print(\"\"\"\n",
    "        Results from Shodan Query\n",
    "        IP: {}\n",
    "        ISP: {}\n",
    "        Organization: {}\n",
    "        Operating System: {}\n",
    "        Tags: {}\n",
    "        Server: {}\n",
    "    \"\"\".format(host['ip_str'], host.get('isp'), host.get('org', 'n/a'), host.get('os', 'n/a'), host.get('tags'), host.get('server')))"
   ]
  },
  {
   "cell_type": "code",
   "execution_count": null,
   "metadata": {},
   "outputs": [],
   "source": [
    "# Print all banners\n",
    "for item in host['data']:\n",
    "    print(\"\"\"\n",
    "        IP:{}\n",
    "        Port: {} \n",
    "        \"\"\".format(item['ip_str'], item['port']))"
   ]
  },
  {
   "cell_type": "code",
   "execution_count": null,
   "metadata": {},
   "outputs": [],
   "source": [
    "ips_bad_guys = {'dorknet':'167.7.7.234','da_fredsters':'160.39.30.211'}\n",
    "\n",
    "for ip in ips_bad_guys:\n",
    "    host = api.host(ips_bad_guys[ip])\n",
    "    print(ip,\"\"\"\n",
    "        Results from Shodan Query\n",
    "        IP: {}\n",
    "        ISP: {}\n",
    "        Organization: {}\n",
    "        Operating System: {}\n",
    "        Tags: {}\n",
    "    \"\"\".format(host['ip_str'], host.get('isp'), host.get('org', 'n/a'), host.get('os', 'n/a'), host.get('tags'))) \n",
    "    \n",
    "    "
   ]
  },
  {
   "cell_type": "code",
   "execution_count": null,
   "metadata": {},
   "outputs": [],
   "source": []
  }
 ],
 "metadata": {
  "kernelspec": {
   "display_name": "Python 3",
   "language": "python",
   "name": "python3"
  },
  "language_info": {
   "codemirror_mode": {
    "name": "ipython",
    "version": 3
   },
   "file_extension": ".py",
   "mimetype": "text/x-python",
   "name": "python",
   "nbconvert_exporter": "python",
   "pygments_lexer": "ipython3",
   "version": "3.8.5"
  }
 },
 "nbformat": 4,
 "nbformat_minor": 2
}
